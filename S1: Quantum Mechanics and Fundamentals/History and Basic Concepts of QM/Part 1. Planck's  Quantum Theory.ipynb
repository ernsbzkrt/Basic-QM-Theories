{
  "nbformat": 4,
  "nbformat_minor": 0,
  "metadata": {
    "colab": {
      "provenance": []
    },
    "kernelspec": {
      "name": "python3",
      "display_name": "Python 3"
    },
    "language_info": {
      "name": "python"
    }
  },
  "cells": [
    {
      "cell_type": "markdown",
      "source": [
        "**In this series of articles, we will focus on the theoretical foundations of Quantum Mechanics to understand the basics of Quantum Computing. Starting with the topic of Quantum Mechanics and Fundamentals, which serves as our starting point, we will embark on this long journey.**\n",
        "\n"
      ],
      "metadata": {
        "id": "yIrNPkmGOUPp"
      }
    },
    {
      "cell_type": "markdown",
      "source": [
        "# **1.1. The Emergence of Planck's Quantum Theory and the Concept of Photon**\n",
        "\n"
      ],
      "metadata": {
        "id": "WTqSB6XwOUpS"
      }
    },
    {
      "cell_type": "markdown",
      "source": [
        "**Summary:**\n",
        "-------------------------------\n",
        "      1. Planck's Quantum Theory\n",
        "      Planck proposed in 1900 that energy is transferred in discrete amounts (\"quanta\") rather than continuously, aiming to solve the problem of\n",
        "      blackbody radiation. This marked a revolutionary step that formed the basis of quantum mechanics.\n",
        "\n",
        "      2. Emergence of the Photon Concept\n",
        "      Albert Einstein, in 1905, expanded Planck's quantum theory by introducing the photon theory, which explains that light exhibits both wave and\n",
        "      particle properties. This theory was confirmed through experiments on the photoelectric effect.\n",
        "\n"
      ],
      "metadata": {
        "id": "1OzG92TsOr7x"
      }
    },
    {
      "cell_type": "markdown",
      "source": [
        "--------------------------------------------"
      ],
      "metadata": {
        "id": "PUjbCXTkO5p5"
      }
    },
    {
      "cell_type": "markdown",
      "source": [
        "### 1.1.1. Planck's Quantum Theory and its Foundations\n",
        "\n",
        "In 1900, Max Planck proposed that energy exists in quantized amounts, or specific \"quanta,\" to explain the emission of blackbody radiation. This hypothesis marked a crucial turning point in resolving the ultraviolet catastrophe, which was incompatible with classical physics (predicted by the Rayleigh-Jeans law, it implied an infinite energy emission problem).\n",
        "\n",
        "\n",
        "```\n",
        "What is the Rayleigh-Jeans Law?\n",
        "\n",
        "This law is a model used in classical physics to describe the behavior of light. It indicates how much energy light emits depending on\n",
        "its wavelength. However, this model predicts more energy than expected at short wavelengths. This implies that ultraviolet light would carry\n",
        "infinite energy, which is a contradiction.\n",
        "```\n",
        "\n",
        "Planck proposed that energy could only exist in specific amounts depending on the frequency, suggesting that electromagnetic radiation, such as light, is also quantized. Planck's work laid the foundation for quantum theory and initiated a revolution in physics.\n",
        "\n",
        "Max Planck's quantum theory asserts that the energy of light and other electromagnetic radiation is emitted only in specific amounts, known as \"quanta.\" This implies that energy is not continuously transferred but rather in discrete packets. Planck put forth this idea in 1900 to explain blackbody radiation.\n",
        "\n",
        "The fundamental hypothesis of Planck was that the energy of electromagnetic radiation changes in specific amounts depending on its frequency. Thus, high-frequency radiation carries more energy, whereas low-frequency radiation carries less energy. This indicates that energy is not emitted continuously but rather in \"small packets\" of specific amounts.\n",
        "\n",
        "Planck's work laid the foundation for quantum theory and resolved some discrepancies in classical physics. Particularly, it eliminated the prediction of infinite energy at short wavelengths, as suggested by the Rayleigh-Jeans law. This paved the way for the birth of quantum mechanics and marked the beginning of a significant revolution in physics.\n"
      ],
      "metadata": {
        "id": "8UVM8IArO5oA"
      }
    },
    {
      "cell_type": "markdown",
      "source": [
        "### **1.1.2. Development of the Concept of Photon**\n",
        "\n",
        "Albert Einstein, in 1905, advanced Planck's quantum theory by proposing that light is not only waves but also propagates as energy packets, later named \"photons\".\n",
        "\n",
        "Einstein's photon theory brought about a radical change in our understanding of light's nature. It was now accepted that light possesses both wave and particle properties. This was particularly confirmed through experiments on the photoelectric effect. In these experiments, light caused the ejection of electrons from a surface, and it was observed that this effect occurred only at certain frequencies. This supported the idea that the energy of light is quantized in specific amounts depending on frequency, thus validating Einstein's photon theory.\n",
        "\n",
        "Einstein's photon theory greatly contributed to our understanding of interactions between light and matter. Moreover, it served as a cornerstone for the development of broader theories in the field of quantum mechanics. Consequently, this dual nature understanding of light became one of the cornerstones of modern physics."
      ],
      "metadata": {
        "id": "zw-pPbU_O5l4"
      }
    },
    {
      "cell_type": "markdown",
      "source": [
        "### **1.1.3. Ludwig Boltzmann and the Discreteness of Energy Levels**\n",
        "\n",
        "In 1877, Ludwig Boltzmann proposed that the energy levels of a physical system could be discrete (non-continuous), implying that the energy of molecules is quantized into specific amounts. He introduced this idea particularly while developing thermodynamic and statistical mechanical theories to explain the motion and interactions of gas molecules.\n",
        "\n",
        "Boltzmann's proposal bears significant parallels with Planck's quantum hypothesis. Boltzmann's statistical thermodynamic and mechanical theories aimed to statistically explain the behaviors of physical systems. These theories emphasized the discrete nature of energy while modeling the distribution and motion of molecules within a system at a certain temperature.\n",
        "\n",
        "Boltzmann's proposition was supported by mathematical arguments used in the development of quantum theory by Planck and subsequent physicists. Specifically, Planck's work on blackbody radiation and his suggestion that energy is emitted in specific amounts (called quanta) relied on Boltzmann's predictions. This constitutes a significant example of the relationship between quantum mechanics and statistical physics, with Boltzmann's contributions playing a fundamental role in the development of quantum physics."
      ],
      "metadata": {
        "id": "0u15FurgO5jY"
      }
    },
    {
      "cell_type": "markdown",
      "source": [
        "### **1.1.4. Results and Implications for Modern Physics**\n",
        "\n",
        "Max Planck's quantum theory and Albert Einstein's concept of the photon form the foundation of modern physics. These theories play a fundamental role in understanding atomic and subatomic processes. Previously, classical physics assumed a continuous flow of energy and matter. However, Planck's quantum theory proposed that energy is emitted in specific amounts called \"quanta,\" suggesting that the transfer of energy at the atomic level is discrete and occurs in specific packets.\n",
        "\n",
        "Einstein's concept of the photon also evolved within this framework. He proposed that light propagates not only as waves but also as particles (called photons), fundamentally altering our understanding of light's nature. Light was now recognized to possess both wave and particle properties.\n",
        "\n",
        "These revolutionary ideas fundamentally altered the way physicists comprehend the nature of matter and energy. They were particularly regarded as significant steps in the exploration of the atomic and subatomic worlds. Quantum mechanics was developed to explain phenomena that were inconsistent with classical physics, providing insights into the understanding of the subatomic realm.\n",
        "\n",
        "Planck's quantum theory and Einstein's concept of the photon opened doors to new research fields in both theoretical and applied physics. Quantum mechanics laid the groundwork for disciplines such as solid-state physics, nuclear physics, and particle physics, playing a critical role in the development of modern technology. These ideas are considered milestones in the evolution of physics and continue to serve as cornerstones in scientific research today."
      ],
      "metadata": {
        "id": "Lp-P-_uLO5g4"
      }
    }
  ]
}