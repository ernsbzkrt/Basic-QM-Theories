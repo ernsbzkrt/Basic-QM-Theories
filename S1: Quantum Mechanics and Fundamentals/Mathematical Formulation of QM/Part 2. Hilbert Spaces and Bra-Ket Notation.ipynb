{
  "nbformat": 4,
  "nbformat_minor": 0,
  "metadata": {
    "colab": {
      "provenance": []
    },
    "kernelspec": {
      "name": "python3",
      "display_name": "Python 3"
    },
    "language_info": {
      "name": "python"
    }
  },
  "cells": [
    {
      "cell_type": "markdown",
      "source": [
        "# **3.2. Hilbert Spaces and Bra-Ket Notation**\n",
        "\n",
        "*Hilbert spaces and bra-ket notation are mathematical structures and notations with a wide range of applications from quantum mechanics to functional analysis. These two topics are extensively studied, particularly in physics and mathematics.*"
      ],
      "metadata": {
        "id": "ame1EHgJaYgp"
      }
    },
    {
      "cell_type": "markdown",
      "source": [
        "#### **3.2.1. What are Hilbert Spaces?**\n",
        "\n",
        "A Hilbert space is a special type of vector space, an important concept in mathematics. However, unlike other vector spaces, a Hilbert space is equipped with an inner product function, providing a norm structure. Due to these properties, Hilbert spaces possess a rich geometric structure.\n",
        "\n",
        "The inner product function is an operation that produces a numerical value for any two vectors in a vector space. This operation generalizes the concept of \"angle\" between vectors. For example, we can use the inner product function to measure how similar or \"opposite\" two vectors are to each other. Additionally, the inner product determines the lengths of vectors and their positions relative to each other.\n",
        "\n",
        "The inner product function in Hilbert spaces is typically structured like the dot product of vectors. However, this definition can be extended to infinite-dimensional spaces as well. For instance, operations like integrals can be used to measure the similarity or difference between two functions.\n",
        "\n",
        "Together with the norm structure provided by the inner product function, a Hilbert space forms a complete vector space. Completeness means that the limit of every Cauchy sequence in this space also belongs to this space. This property makes Hilbert spaces highly useful in mathematical analysis and other fields.\n",
        "\n",
        "Hilbert spaces are a concept frequently used in areas such as quantum mechanics and signal processing, playing a fundamental role. They are particularly important in the analysis and modeling of infinite-dimensional systems. These spaces encompass a complex and broad area of vector spaces, contributing to various applications in mathematics and science.\n",
        "\n"
      ],
      "metadata": {
        "id": "-gM0M4-waYea"
      }
    },
    {
      "cell_type": "markdown",
      "source": [
        "####**3.2.1.1. Properties of Hilbert Spaces**\n",
        "\n",
        "**1. Inner Product and Norm**\n",
        "\n",
        "For every \\( x, y \\in H \\) (where \\( H \\) is a Hilbert space), the inner product \\( \\langle x, y \\rangle \\) is a complex number, and the norm defined using this inner product \\( \\|x\\| = \\sqrt{\\langle x, x \\rangle} \\) renders the space complete (every Cauchy sequence has a limit).\n",
        "\n",
        "In simpler terms:\n",
        "* Hilbert spaces possess a norm structure defined by the inner product. This norm determines the lengths of vectors. Hilbert spaces are complete, meaning every Cauchy sequence has a limit. This ensures the space's usability in mathematical analysis and other applications.\n",
        "\n",
        "**2. Orthogonality and Basis**\n",
        "\n",
        "If the inner product of two vectors is zero, those vectors are orthogonal to each other. Every Hilbert space has an orthogonal basis, and any vector can be expressed as a linear combination of these basis vectors.\n",
        "\n",
        "In simpler terms:\n",
        "* Orthogonality refers to the condition where the inner product of two vectors is zero. In other words, if the inner product of two vectors is zero, they are termed \"orthogonal\" or \"perpendicular\" to each other. In this case, the vectors are entirely independent of each other and lie in different directions.\n",
        "* Every Hilbert space is characterized by a special basis where vectors are orthogonal to each other and can be represented in a specific way. Using this special basis, any vector in the Hilbert space can be expressed as a linear combination of these orthogonal vectors. This means that every vector in the Hilbert space can be constructed in a particular way using this special basis. This is an important property for understanding the structure of the space and examining vectors comfortably.\n",
        "\n",
        "**3. Projection Theorem**\n",
        "\n",
        "For every closed subspace, every vector in the Hilbert space can be uniquely expressed as the sum of a vector in the subspace and a vector in the orthogonal complement of the subspace.\n",
        "\n",
        "In simpler terms:\n",
        "* This theorem holds for any subspace in a Hilbert space. It states that any vector can be uniquely expressed as the sum of a vector in the subspace and a vector in the \"orthogonal complement\" of the subspace.\n",
        "* Thus, the projection of a vector onto a subspace, i.e., the part that falls within the subspace and the \"remainder\" part outside the subspace, can be determined by this theorem. This helps us better understand the relationship between vectors and subspaces.\n",
        "\n",
        "**4. Spectral Theorem**\n",
        "\n",
        "The spectral theorem for compact self-adjoint operators, which are closely related operators with themselves, specifies how such operators can be characterized by eigenvalues and eigenvectors.\n",
        "\n",
        "In simpler terms:\n",
        "* The spectral theorem denotes a method to find eigenvalues and eigenvectors of a particular mathematical operation (operator).\n",
        "* Self-adjoint operators are operators for which the transpose of the operation is the same as the operation itself. The spectral theorem for these operators shows how to find their eigenvalues and the corresponding eigenvectors.\n",
        "* Thus, the spectral theorem describes a method for determining the characteristic properties, i.e., eigenvalues and eigenvectors, of a mathematical operation. This is an important concept in mathematical analysis and applied fields."
      ],
      "metadata": {
        "id": "JoisNza8aYb5"
      }
    },
    {
      "cell_type": "markdown",
      "source": [
        "####**3.2.1.2. How are These Properties Used in Quantum Mechanics?**\n",
        "\n",
        "**Inner Product and Norm**\n",
        "\n",
        "In quantum mechanics, vectors are used to represent states in a system, which reside in Hilbert spaces. Inner product and norm allow for the mathematical analysis of quantum states by measuring the similarity and length between vectors. Particularly, inner product and norm are used to determine the probabilities of transitions between states in a system.\n",
        "\n",
        "**Orthogonality and Basis**\n",
        "\n",
        "In quantum mechanics, the relationships between vectors representing different states of a system are crucial. Orthogonality signifies that different states are independent of each other. Basis is the fundamental set of vectors used to represent the states of a system. In quantum mechanics, bases representing properties such as spin and position are frequently used.\n",
        "\n",
        "**Projection Theorem**\n",
        "\n",
        "The projection theorem explains how a system's states in a specific subspace can be projected. In quantum mechanics, this theorem can be used to analyze states of a system possessing certain properties. For example, scenarios like projecting a particle to a specific position or momentum value can be examined.\n",
        "\n",
        "**Spectral Theorem**\n",
        "\n",
        "The spectral theorem plays a significant role in quantum mechanics as it determines a system's energy states, along with their corresponding eigenvalues and eigenvectors. This is utilized in the analysis of energy levels and the associated states in a system.\n",
        "\n",
        "*The utilization of these properties in quantum mechanics is crucial for the mathematical modeling, analysis of properties, and prediction of behaviors of quantum systems.*"
      ],
      "metadata": {
        "id": "uPYWRwZSaYZ5"
      }
    },
    {
      "cell_type": "markdown",
      "source": [
        "### **3.2.2. What is the Bra-Ket Notation?**\n",
        "\n",
        "Bra-ket notation, or Dirac notation, is a special notation used to express states and operators in quantum mechanics. This notation was developed by Paul Dirac, one of the prominent physicists of the 20th century, and it is widely used in the field of quantum mechanics.\n",
        "\n",
        "Bra-ket notation is used to represent vectors in a Hilbert space and their linear functionals. This space is utilized to represent the states of systems and their possible outcomes in quantum mechanics.\n",
        "\n",
        "Bra-ket notation typically represents a vector, denoted by the symbol |⟩. For example, the expression |ψ⟩ represents a vector named ψ. Similarly, the symbol ⟨ϕ| represents a vector, but this vector is termed as the \"bra\" of ϕ, acting like a row vector.\n",
        "\n",
        "Bra-ket notation is also employed to denote inner products and interactions of operators. For instance, ⟨ϕ|ψ⟩ is used to represent the inner product of ϕ and ψ vectors, indicating their similarity. Likewise, a representation such as ⟨ϕ|A|ψ⟩ can be used to express the action of an operator on a vector, where A denotes the operator and ϕ and ψ signify its interaction.\n",
        "\n",
        "This notation is used to express quantum mechanics problems in a mathematically concise and understandable manner. It facilitates calculations and analyses conducted in quantum mechanics, thus becoming an integral part of the field."
      ],
      "metadata": {
        "id": "kZ25m1iZaYX5"
      }
    },
    {
      "cell_type": "markdown",
      "source": [
        "**The notation consists of two main parts:**\n",
        "\n",
        "**1. Ket Vectors**\n",
        "\n",
        "A ket is represented as ∣ψ⟩ and represents a state or vector in a Hilbert Space.\n",
        "\n",
        "- A Hilbert space is a vector space used to mathematically model states and systems in quantum mechanics. It is a structure formed by vectors indexed with complex numbers. In quantum mechanics, a Hilbert space is used to describe all the properties of a system or state.\n",
        "\n",
        "- Ket vectors represent a specific state or vector in this Hilbert space. For example, a ket vector representing the position or spin state of a particle can be used. A ket vector in the form of |ψ⟩ represents a vector named ψ.\n",
        "\n",
        "- Ket vectors are used in many mathematical expressions in quantum mechanics. In particular, the Schrödinger equation, which expresses the evolution of states, is represented as a differential equation describing how ket vectors change over time. Similarly, operators used to measure a system's state and predict outcomes are also expressed with ket vectors.\n",
        "\n",
        "- Ket vectors are a fundamental concept in quantum mechanics and play a key role in mathematically modeling and analyzing physical systems."
      ],
      "metadata": {
        "id": "HbPtR36CaYVh"
      }
    },
    {
      "cell_type": "markdown",
      "source": [
        "**2. Bra Vectors**\n",
        "\n",
        "Bra vectors, denoted as ⟨ϕ∣, represent the Hermitian conjugate (or dual) of a vector in a Hilbert space. The multiplication of a ket with a bra gives the inner product between two states: ⟨ϕ∣ψ⟩.\n",
        "\n",
        "- Bra vectors are the counterparts of ket vectors in quantum mechanics and are their adjoints. They are usually represented as ⟨φ| and express the \"holding comparison\" of a vector representing the state of a physical system.\n",
        "\n",
        "- Bra vectors are a row vector consisting only of the complex conjugates of a vector in the Hilbert space. Thus, a bra vector is the complex conjugate and transpose of a ket vector. For example, for a ket vector |ψ⟩, the corresponding bra vector is ⟨ψ|.\n",
        "\n",
        "- Similar to ket vectors, bra vectors are used to represent the states and properties of physical systems. However, bra vectors offer a different perspective from ket vectors. While ket vectors typically represent the \"state\" of a system, bra vectors represent the \"holding comparison\" or \"holding contrast\" of a system's state. Thus, bra vectors contain information about a feature of a system's state.\n",
        "\n",
        "- In quantum mechanics, bra vectors are often used to measure the properties of a system. Measurement operators are expressed with bra vectors and define the mathematical operations used to measure a property of a system. For example, the inner product of a bra vector with a ket vector can be used to measure the probability of finding a system in a certain state.\n",
        "\n",
        "Bra vectors and ket vectors are fundamental tools for mathematically expressing and analyzing problems in quantum mechanics. When used together, they enable the complete description of system states and allow for the analysis of various operations and measurements in quantum mechanics.\n",
        "\n",
        "The bra-ket notation provides significant convenience, especially when performing calculations in quantum mechanics.\n"
      ],
      "metadata": {
        "id": "xBE0XbhUaYTC"
      }
    },
    {
      "cell_type": "markdown",
      "source": [
        "**This overview of Hilbert spaces and bra-ket notation summarizes the fundamental concepts and important features of both subjects. These structures enable the understanding and resolution of many complex problems in modern physics and mathematics.**"
      ],
      "metadata": {
        "id": "hNDjkYTsaYRB"
      }
    }
  ]
}