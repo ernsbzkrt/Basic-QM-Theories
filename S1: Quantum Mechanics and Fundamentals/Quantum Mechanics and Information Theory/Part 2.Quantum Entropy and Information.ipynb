{
  "nbformat": 4,
  "nbformat_minor": 0,
  "metadata": {
    "colab": {
      "provenance": []
    },
    "kernelspec": {
      "name": "python3",
      "display_name": "Python 3"
    },
    "language_info": {
      "name": "python"
    }
  },
  "cells": [
    {
      "cell_type": "markdown",
      "source": [
        "# **5.2. Quantum Entropy and Information**\n"
      ],
      "metadata": {
        "id": "VNdTux4wnoft"
      }
    },
    {
      "cell_type": "markdown",
      "source": [
        "Quantum entropy is a concept that measures the uncertainty and information content of quantum states. In quantum mechanics, the entropy of a system expresses the complexity and uncertainty of the system. Von Neumann entropy is the most common form of quantum entropy and is used to measure the purity of a quantum state. If a quantum state is completely pure (meaning the state can be fully described by a specific quantum state), its entropy is zero. However, if the state is mixed (complex), its entropy increases. In the context of information theory, quantum entropy also defines the maximum amount of information that can be obtained from a quantum source."
      ],
      "metadata": {
        "id": "YRt70sC2p_21"
      }
    },
    {
      "cell_type": "markdown",
      "source": [
        "**5.2.1. Von Neumann Entropy**\n",
        "\n",
        "Von Neumann entropy is a metric that measures the purity of quantum states and is calculated using the density matrix ρ of a quantum state.\n",
        "\n",
        "Mathematically, Von Neumann entropy is expressed as:\n",
        "* S(ρ) = −Tr(ρlogρ)\n",
        "\n",
        "Here;\n",
        "* Tr represents the trace operator (the sum of the diagonal elements of the matrix), and\n",
        "* log denotes the natural logarithm. The density matrix fully describes the state of a quantum system, and its properties determine the behavior of the system in quantum mechanics."
      ],
      "metadata": {
        "id": "J-ViWXSXp_z0"
      }
    },
    {
      "cell_type": "markdown",
      "source": [
        "**5.2.2. Purity and Mixedness**\n",
        "\n",
        "When a quantum state is pure, meaning it is precisely known to be in a single quantum state, the density matrix ρ has a definite value corresponding to just one state. In this case, Von Neumann entropy is zero because we have complete information about the state of the system, and there is no uncertainty.\n",
        "\n",
        "Mixed states, on the other hand, can be described as a superposition of multiple quantum states, indicating a distribution of probabilities for the system to be in certain states. Such states have higher entropy because it implies we have incomplete or uncertain information about the system. Mixedness is a fundamental feature in quantum mechanics and demonstrates the differences between quantum systems and classical systems."
      ],
      "metadata": {
        "id": "Eoe4h866qJ30"
      }
    }
  ]
}