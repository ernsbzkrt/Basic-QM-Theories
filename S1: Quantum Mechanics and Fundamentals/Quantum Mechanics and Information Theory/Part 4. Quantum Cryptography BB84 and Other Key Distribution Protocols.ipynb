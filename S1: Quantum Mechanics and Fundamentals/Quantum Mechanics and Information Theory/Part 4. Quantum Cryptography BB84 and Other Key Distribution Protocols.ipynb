{
  "nbformat": 4,
  "nbformat_minor": 0,
  "metadata": {
    "colab": {
      "provenance": []
    },
    "kernelspec": {
      "name": "python3",
      "display_name": "Python 3"
    },
    "language_info": {
      "name": "python"
    }
  },
  "cells": [
    {
      "cell_type": "markdown",
      "source": [
        "# **5.4 Quantum Cryptography: BB84 and Other Key Distribution Protocols**\n"
      ],
      "metadata": {
        "id": "VNdTux4wnoft"
      }
    },
    {
      "cell_type": "markdown",
      "source": [
        "Quantum cryptography aims to develop theoretically unbreakable encryption methods using the principles of quantum mechanics. One of the most famous protocols in this field is BB84, the quantum key distribution (QKD) protocol. BB84 enables the secure generation of random keys between two parties, which can then be used for cryptographic purposes. If an eavesdropper attempts to intercept these keys, the properties of quantum mechanics ensure that the eavesdropping activity is detected, and the compromised keys are not used. Quantum cryptography holds significant potential, especially in areas requiring high security such as finance, military communication, and critical infrastructure."
      ],
      "metadata": {
        "id": "Qa5wQzaoth1f"
      }
    },
    {
      "cell_type": "markdown",
      "source": [
        "### **5.4.1. BB84 Protocol**\n",
        "\n",
        "BB84, developed by Charles Bennett and Gilles Brassard in 1984, is one of the cornerstones of quantum cryptography. BB84 allows two parties (usually referred to as Alice and Bob) to generate a secure key randomly without being known by an eavesdropper (referred to as Eve). This key can later be used for cryptographic purposes.\n",
        "\n",
        "**Operation of BB84**\n",
        "\n",
        "**Key Distribution Over Quantum Channel:**\n",
        "\n",
        "Alice sends a series of qubits using two randomly chosen different bases (usually representing polarization or spin states). Each basis represents one of the two possible states, resulting in four possible qubit states.\n",
        "\n",
        "**Basis Selection and Measurement**\n",
        "\n",
        "Bob randomly selects a basis for each qubit and performs measurements. However, the basis chosen by Bob may not always be the same as the one used by Alice.\n",
        "\n",
        "**Basis Comparison**\n",
        "\n",
        "Alice and Bob then compare which bases they used. If Bob's selection matches Alice's basis, Bob's measurement is considered reliable, and these measurements become part of the shared secret key. If different bases were used, those qubits are discarded.\n",
        "\n",
        "**Eavesdropping Check and Key Authentication**\n",
        "\n",
        "Alice and Bob verify a portion of the qubit sequence by comparing them over an open channel. If eavesdropping occurred, there will be discrepancies in the measurement results of the qubits because according to the principles of quantum mechanics, measuring a qubit changes its state.\n",
        "\n",
        "**Security Principle**\n",
        "\n",
        "The security of BB84 relies on Heisenberg's uncertainty principle and the properties of quantum entanglement. If an eavesdropper (Eve) attempts to measure the qubits, it will inevitably change the state of the qubits, and its presence will be detected. This creates a theoretically unbreakable communication channel.\n",
        "\n",
        "**Other QKD Protocols**\n",
        "\n",
        "In addition to BB84, many other protocols have been developed in quantum cryptography. Examples include E91, B92, and SARG04. The E91 protocol, developed by Artur Ekert, relies on quantum entanglement and uses shared entangled qubit pairs between two parties. B92 is a variation of BB84 that uses only two different qubit states. SARG04 is similar to BB84 but offers a more sophisticated cheating detection method.\n",
        "\n",
        "**Conclusion**\n",
        "\n",
        "Quantum cryptography, especially QKD protocols, has the potential to usher in a new era of information security. Protocols like BB84 and its variants provide theoretically unbreakable secure communication channels by utilizing the fundamental principles of quantum mechanics. This could revolutionize fields requiring high security such as finance, military communication, and critical infrastructure."
      ],
      "metadata": {
        "id": "llDXkXbxtkZL"
      }
    }
  ]
}